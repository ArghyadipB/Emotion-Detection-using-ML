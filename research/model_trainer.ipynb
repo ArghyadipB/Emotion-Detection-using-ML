{
 "cells": [
  {
   "cell_type": "code",
   "execution_count": 1,
   "metadata": {},
   "outputs": [],
   "source": [
    "import os"
   ]
  },
  {
   "cell_type": "code",
   "execution_count": 2,
   "metadata": {},
   "outputs": [],
   "source": [
    "os.chdir(\"../\")"
   ]
  },
  {
   "cell_type": "code",
   "execution_count": 4,
   "metadata": {},
   "outputs": [
    {
     "data": {
      "text/plain": [
       "'e:\\\\Projects\\\\E2E Emotion Detection from text\\\\Emotion-Detection-using-ML'"
      ]
     },
     "execution_count": 4,
     "metadata": {},
     "output_type": "execute_result"
    }
   ],
   "source": [
    "%pwd"
   ]
  },
  {
   "cell_type": "code",
   "execution_count": 16,
   "metadata": {},
   "outputs": [],
   "source": [
    "from dataclasses import dataclass\n",
    "from pathlib import Path\n",
    "\n",
    "\n",
    "@dataclass(frozen=True)\n",
    "class ModelTrainerConfig:\n",
    "    root_dir: Path\n",
    "    train_data_path_X: Path\n",
    "    train_data_path_target: Path\n",
    "    test_data_path_X: Path\n",
    "    test_data_path_target: Path\n",
    "    model_name: str\n",
    "    \n",
    "    # model\n",
    "    class_weight: str\n",
    "    max_iter: int\n",
    "    penalty: str\n",
    "    solver: str\n",
    "    n_jobs: int\n",
    "    random_state: int\n",
    "    \n",
    "    # target_column:str    "
   ]
  },
  {
   "cell_type": "code",
   "execution_count": 17,
   "metadata": {},
   "outputs": [],
   "source": [
    "from src.ML_emotion_detection.constants import *\n",
    "from src.ML_emotion_detection.utils.common import read_yaml, create_directories, load_bin, save_bin"
   ]
  },
  {
   "cell_type": "code",
   "execution_count": 18,
   "metadata": {},
   "outputs": [],
   "source": [
    "class ConfigurationManager:\n",
    "    def __init__(\n",
    "        self,\n",
    "        config_filepath = CONFIG_FILE_PATH,\n",
    "        params_filepath = PARAMS_FILE_PATH,\n",
    "        schema_filepath = SCHEMA_FILE_PATH):\n",
    "\n",
    "        self.config = read_yaml(config_filepath)\n",
    "        self.params = read_yaml(params_filepath)\n",
    "        self.schema = read_yaml(schema_filepath)\n",
    "\n",
    "        create_directories([self.config.artifacts_root])\n",
    "        \n",
    "    def get_model_trainer_config(self) -> ModelTrainerConfig:\n",
    "        config = self.config.model_trainer\n",
    "        params = self.params.LogisticRegression\n",
    "        # schema =  self.schema.TARGET_COLUMN\n",
    "\n",
    "        create_directories([config.root_dir])\n",
    "        \n",
    "        model_trainer_config = ModelTrainerConfig(\n",
    "            root_dir=config.root_dir,\n",
    "            \n",
    "            train_data_path_X = config.train_data_path_X,\n",
    "            train_data_path_target = config.train_data_path_target,\n",
    "            \n",
    "            test_data_path_X = config.test_data_path_X,\n",
    "            test_data_path_target = config.test_data_path_target,\n",
    "            \n",
    "            model_name = config.model_name,\n",
    "            \n",
    "            class_weight= params.class_weight,\n",
    "            max_iter= params.max_iter,\n",
    "            penalty= params.penalty,\n",
    "            solver= params.solver,\n",
    "            n_jobs= params.n_jobs,\n",
    "            random_state= params.random_state\n",
    "            \n",
    "            # target_column = schema.name\n",
    "            \n",
    "        )\n",
    "        return model_trainer_config"
   ]
  },
  {
   "cell_type": "code",
   "execution_count": 19,
   "metadata": {},
   "outputs": [],
   "source": [
    "from sklearn.linear_model import LogisticRegression"
   ]
  },
  {
   "cell_type": "code",
   "execution_count": null,
   "metadata": {},
   "outputs": [],
   "source": [
    "class ModelTrainer:\n",
    "    def __init__(self, config: ModelTrainerConfig):\n",
    "        self.config = config\n",
    "\n",
    "    \n",
    "    def train(self):\n",
    "        train_x = load_bin(self.config.train_data_path_X)\n",
    "        test_x = load_bin(self.config.test_data_path_X)\n",
    "        \n",
    "        train_y = load_bin(self.config.train_data_path_target)\n",
    "        test_y = load_bin(self.config.test_data_path_target)\n",
    "\n",
    "        log_reg = LogisticRegression(class_weight= self.config.class_weight,\n",
    "                                     max_iter = self.config.max_iter,\n",
    "                                     penalty = self.config.penalty,\n",
    "                                     solver = self.config.solver,\n",
    "                                     n_jobs = self.config.n_jobs,\n",
    "                                     random_state = self.config.random_state)\n",
    "        log_reg.fit(train_x, train_y)\n",
    "\n",
    "        save_bin(log_reg, os.path.join(self.config.root_dir, self.config.model_name))"
   ]
  },
  {
   "cell_type": "code",
   "execution_count": 21,
   "metadata": {},
   "outputs": [
    {
     "name": "stdout",
     "output_type": "stream",
     "text": [
      "[2024-11-21 10:08:22,537: INFO: common: yaml file: config\\config.yaml loaded successfully]\n",
      "[2024-11-21 10:08:22,558: INFO: common: yaml file: params.yaml loaded successfully]\n",
      "[2024-11-21 10:08:22,563: INFO: common: yaml file: schema.yaml loaded successfully]\n",
      "[2024-11-21 10:08:22,566: INFO: common: created directory at: artifacts]\n"
     ]
    },
    {
     "name": "stdout",
     "output_type": "stream",
     "text": [
      "[2024-11-21 10:08:22,570: INFO: common: created directory at: artifacts/model_trainer]\n",
      "[2024-11-21 10:08:22,724: INFO: common: binary file loaded from: artifacts/data_transformation/X_train.joblib]\n",
      "[2024-11-21 10:08:22,970: INFO: common: binary file loaded from: artifacts/data_transformation/y_test.joblib]\n",
      "[2024-11-21 10:08:23,173: INFO: common: binary file loaded from: artifacts/data_transformation/y_train.joblib]\n",
      "[2024-11-21 10:08:23,177: INFO: common: binary file loaded from: artifacts/data_transformation/y_test.joblib]\n",
      "[2024-11-21 10:09:47,138: INFO: common: binary file saved at: artifacts/model_trainer\\log_reg_model.joblib]\n"
     ]
    }
   ],
   "source": [
    "try:\n",
    "    config = ConfigurationManager()\n",
    "    model_trainer_config = config.get_model_trainer_config()\n",
    "    model_trainer_config = ModelTrainer(config=model_trainer_config)\n",
    "    model_trainer_config.train()\n",
    "except Exception as e:\n",
    "    raise e"
   ]
  }
 ],
 "metadata": {
  "kernelspec": {
   "display_name": "Python 3",
   "language": "python",
   "name": "python3"
  },
  "language_info": {
   "codemirror_mode": {
    "name": "ipython",
    "version": 3
   },
   "file_extension": ".py",
   "mimetype": "text/x-python",
   "name": "python",
   "nbconvert_exporter": "python",
   "pygments_lexer": "ipython3",
   "version": "3.9.20"
  }
 },
 "nbformat": 4,
 "nbformat_minor": 2
}
