{
 "cells": [
  {
   "cell_type": "code",
   "execution_count": 1,
   "metadata": {},
   "outputs": [],
   "source": [
    "import os"
   ]
  },
  {
   "cell_type": "code",
   "execution_count": 2,
   "metadata": {},
   "outputs": [],
   "source": [
    "\n",
    "os.chdir(\"../\")"
   ]
  },
  {
   "cell_type": "code",
   "execution_count": 8,
   "metadata": {},
   "outputs": [
    {
     "data": {
      "text/plain": [
       "'e:\\\\Projects\\\\E2E Emotion Detection from text\\\\Emotion-Detection-using-ML'"
      ]
     },
     "execution_count": 8,
     "metadata": {},
     "output_type": "execute_result"
    }
   ],
   "source": [
    "%pwd"
   ]
  },
  {
   "cell_type": "code",
   "execution_count": 9,
   "metadata": {},
   "outputs": [],
   "source": [
    "from dataclasses import dataclass\n",
    "from pathlib import Path\n",
    "\n",
    "\n",
    "@dataclass(frozen=True)\n",
    "class ModelEvaluationConfig:\n",
    "    root_dir: Path\n",
    "    test_data_path_X: Path\n",
    "    test_data_path_target: Path\n",
    "    model_path: Path\n",
    "    all_params: dict\n",
    "    metric_file_name: Path\n",
    "    cm_file_name: Path\n",
    "    mlflow_uri: str"
   ]
  },
  {
   "cell_type": "code",
   "execution_count": 10,
   "metadata": {},
   "outputs": [],
   "source": [
    "from src.ML_emotion_detection.constants import *\n",
    "from src.ML_emotion_detection.utils.common import read_yaml, create_directories, save_json"
   ]
  },
  {
   "cell_type": "code",
   "execution_count": 12,
   "metadata": {},
   "outputs": [],
   "source": [
    "class ConfigurationManager:\n",
    "    def __init__(\n",
    "        self,\n",
    "        config_filepath = CONFIG_FILE_PATH,\n",
    "        params_filepath = PARAMS_FILE_PATH,\n",
    "        schema_filepath = SCHEMA_FILE_PATH):\n",
    "\n",
    "        self.config = read_yaml(config_filepath)\n",
    "        self.params = read_yaml(params_filepath)\n",
    "        self.schema = read_yaml(schema_filepath)\n",
    "\n",
    "        create_directories([self.config.artifacts_root])\n",
    "\n",
    "    \n",
    "    def get_model_evaluation_config(self) -> ModelEvaluationConfig:\n",
    "        config = self.config.model_evaluation\n",
    "        params = self.params.LogisticRegression\n",
    "        # schema =  self.schema.TARGET_COLUMN\n",
    "\n",
    "        create_directories([config.root_dir])\n",
    "\n",
    "        model_evaluation_config = ModelEvaluationConfig(\n",
    "            root_dir=config.root_dir,\n",
    "            test_data_path_X=config.test_data_path_X,\n",
    "            test_data_path_target=config.test_data_path_target,\n",
    "            model_path = config.model_path,\n",
    "            all_params=params,\n",
    "            metric_file_name= config.metric_file_name,\n",
    "            cm_file_name= config.cm_file_name,\n",
    "            mlflow_uri = \"https://dagshub.com/ArghyadipB/Emotion-Detection-using-ML.mlflow\",\n",
    "            # target_column = schema.name           \n",
    "        )\n",
    "\n",
    "        return model_evaluation_config"
   ]
  },
  {
   "cell_type": "code",
   "execution_count": 13,
   "metadata": {},
   "outputs": [
    {
     "name": "stdout",
     "output_type": "stream",
     "text": [
      "[2024-11-26 13:18:33,949: WARNING: font_manager: Matplotlib is building the font cache; this may take a moment.]\n",
      "[2024-11-26 13:20:17,039: INFO: font_manager: generated new fontManager]\n"
     ]
    }
   ],
   "source": [
    "from sklearn.metrics import (accuracy_score, precision_score,\n",
    "                             recall_score, f1_score,\n",
    "                             confusion_matrix, ConfusionMatrixDisplay)\n",
    "from src.ML_emotion_detection.utils.common import load_bin\n",
    "import mlflow\n",
    "import dagshub\n",
    "from urllib.parse import urlparse  \n",
    "import matplotlib.pyplot as plt"
   ]
  },
  {
   "cell_type": "code",
   "execution_count": null,
   "metadata": {},
   "outputs": [],
   "source": [
    "class ModelEvaluation:\n",
    "    def __init__(self, config: ModelEvaluationConfig):\n",
    "        self.config = config\n",
    "        \n",
    "    def eval_metrics(self, actual, pred):\n",
    "        accuracy = accuracy_score(actual, pred)\n",
    "        weighted_precision = precision_score(actual, pred, average= 'weighted')\n",
    "        weighted_recall = recall_score(actual, pred, average= 'weighted')\n",
    "        weighted_f1 = f1_score(actual, pred, average= 'weighted')\n",
    "        \n",
    "        label_map = {\n",
    "        0: \"sadness\",\n",
    "        1: \"joy\",\n",
    "        2: \"love\",\n",
    "        3: \"anger\",\n",
    "        4: \"fear\",\n",
    "        5: \"surprise\"\n",
    "        }\n",
    "\n",
    "        y_true_mapped = [label_map[label] for label in actual]\n",
    "        y_pred_mapped = [label_map[label] for label in pred]\n",
    "\n",
    "        cm = confusion_matrix(y_true_mapped, y_pred_mapped)\n",
    "        cm_disp = ConfusionMatrixDisplay(confusion_matrix=cm, display_labels=list(label_map.values()))\n",
    "        \n",
    "        return accuracy, weighted_precision, weighted_recall, weighted_f1, cm_disp\n",
    "    \n",
    "    def log_into_mlflow(self):\n",
    "        test_data_X = load_bin(self.config.test_data_path_X)\n",
    "        test_data_target = load_bin(self.config.test_data_path_target)\n",
    "        model = load_bin(self.config.model_path)\n",
    "        \n",
    "        dagshub.init(repo_owner='ArghyadipB', repo_name='Emotion-Detection-using-ML', mlflow=True)\n",
    "        mlflow.set_registry_uri(self.config.mlflow_uri)\n",
    "        tracking_url_type_store= urlparse(mlflow.get_tracking_uri()).scheme\n",
    "        \n",
    "        \n",
    "         \n",
    "        with mlflow.start_run():\n",
    "            predicted_output = model.predict(test_data_X)\n",
    "            (acc, weighted_pre, weighted_rec, weighted_f1, conf_mat) = self.eval_metrics(test_data_target,\n",
    "                                                                            predicted_output)\n",
    "            \n",
    "            conf_mat.plot(cmap=plt.cm.Blues, values_format='d')\n",
    "            plt.savefig(self.config.cm_file_name)\n",
    "            plt.close()\n",
    "            \n",
    "            scores = {\"Accuracy\": acc, \"Weighted_precision\": weighted_pre,\n",
    "                    \"Weighted_recall\": weighted_rec, \"Weighted_F1\": weighted_f1}\n",
    "            save_json(path=Path(self.config.metric_file_name), data=scores)\n",
    "            \n",
    "            mlflow.log_params(self.config.all_params)\n",
    "            mlflow.log_metric(\"Accuracy\", acc)\n",
    "            mlflow.log_metric(\"Weighted Precision\", weighted_pre)\n",
    "            mlflow.log_metric(\"Weighted Recall\", weighted_rec) \n",
    "            mlflow.log_metric(\"Weighted F1\", weighted_f1)  \n",
    "            mlflow.log_artifact(self.config.cm_file_name)\n",
    "            \n",
    "            if tracking_url_type_store != \"file\":\n",
    "                mlflow.sklearn.log_model(model, \"model\", registered_model_name= \"LogisticRegression\")\n",
    "            else:\n",
    "                mlflow.sklearn.log_model(model, \"model\")\n",
    "                 "
   ]
  },
  {
   "cell_type": "code",
   "execution_count": 21,
   "metadata": {},
   "outputs": [
    {
     "name": "stdout",
     "output_type": "stream",
     "text": [
      "[2024-11-26 13:34:46,677: INFO: common: yaml file: config\\config.yaml loaded successfully]\n",
      "[2024-11-26 13:34:46,682: INFO: common: yaml file: params.yaml loaded successfully]\n",
      "[2024-11-26 13:34:46,686: INFO: common: yaml file: schema.yaml loaded successfully]\n",
      "[2024-11-26 13:34:46,689: INFO: common: created directory at: artifacts]\n",
      "[2024-11-26 13:34:46,692: INFO: common: created directory at: artifacts/model_evaluation]\n",
      "[2024-11-26 13:34:46,718: INFO: common: binary file loaded from: artifacts/data_transformation/X_test.joblib]\n",
      "[2024-11-26 13:34:46,748: INFO: common: binary file loaded from: artifacts/data_transformation/y_test.joblib]\n",
      "[2024-11-26 13:34:46,753: INFO: common: binary file loaded from: artifacts/model_trainer/log_reg_model.joblib]\n",
      "[2024-11-26 13:34:48,088: INFO: _client: HTTP Request: GET https://dagshub.com/api/v1/repos/ArghyadipB/Emotion-Detection-using-ML \"HTTP/1.1 200 OK\"]\n"
     ]
    },
    {
     "data": {
      "text/html": [
       "<pre style=\"white-space:pre;overflow-x:auto;line-height:normal;font-family:Menlo,'DejaVu Sans Mono',consolas,'Courier New',monospace\">Initialized MLflow to track repo <span style=\"color: #008000; text-decoration-color: #008000\">\"ArghyadipB/Emotion-Detection-using-ML\"</span>\n",
       "</pre>\n"
      ],
      "text/plain": [
       "Initialized MLflow to track repo \u001b[32m\"ArghyadipB/Emotion-Detection-using-ML\"\u001b[0m\n"
      ]
     },
     "metadata": {},
     "output_type": "display_data"
    },
    {
     "name": "stdout",
     "output_type": "stream",
     "text": [
      "[2024-11-26 13:34:48,096: INFO: helpers: Initialized MLflow to track repo \"ArghyadipB/Emotion-Detection-using-ML\"]\n"
     ]
    },
    {
     "data": {
      "text/html": [
       "<pre style=\"white-space:pre;overflow-x:auto;line-height:normal;font-family:Menlo,'DejaVu Sans Mono',consolas,'Courier New',monospace\">Repository ArghyadipB/Emotion-Detection-using-ML initialized!\n",
       "</pre>\n"
      ],
      "text/plain": [
       "Repository ArghyadipB/Emotion-Detection-using-ML initialized!\n"
      ]
     },
     "metadata": {},
     "output_type": "display_data"
    },
    {
     "name": "stdout",
     "output_type": "stream",
     "text": [
      "[2024-11-26 13:34:48,110: INFO: helpers: Repository ArghyadipB/Emotion-Detection-using-ML initialized!]\n",
      "[2024-11-26 13:34:50,261: INFO: common: json file saved at: artifacts\\model_evaluation\\metrics.json]\n"
     ]
    },
    {
     "name": "stderr",
     "output_type": "stream",
     "text": [
      "2024/11/26 13:39:57 WARNING mlflow.utils.environment: Encountered an unexpected error while inferring pip requirements (model URI: C:\\Users\\ARGHYADIP\\AppData\\Local\\Temp\\tmpi41qdelu\\model\\model.pkl, flavor: sklearn). Fall back to return ['scikit-learn==1.5.2', 'cloudpickle==3.1.0']. Set logging level to DEBUG to see the full traceback. \n",
      "2024/11/26 13:39:59 WARNING mlflow.models.model: Model logged without a signature and input example. Please set `input_example` parameter when logging the model to auto infer the model signature.\n"
     ]
    },
    {
     "name": "stdout",
     "output_type": "stream",
     "text": [
      "[2024-11-26 13:40:20,770: WARNING: connectionpool: Retrying (JitteredRetry(total=4, connect=5, read=4, redirect=5, status=5)) after connection broken by 'ProtocolError('Connection aborted.', ConnectionResetError(10054, 'An existing connection was forcibly closed by the remote host', None, 10054, None))': /ArghyadipB/Emotion-Detection-using-ML.mlflow/api/2.0/mlflow-artifacts/artifacts/200ed7f4f40a43aea05c3027bf57eb55/04d1b3cf46d54026bd35a6418e157c57/artifacts/model/conda.yaml]\n"
     ]
    },
    {
     "name": "stderr",
     "output_type": "stream",
     "text": [
      "Successfully registered model 'LogisticRegression'.\n",
      "2024/11/26 13:40:31 INFO mlflow.store.model_registry.abstract_store: Waiting up to 300 seconds for model version to finish creation. Model name: LogisticRegression, version 1\n",
      "Created version '1' of model 'LogisticRegression'.\n"
     ]
    },
    {
     "name": "stdout",
     "output_type": "stream",
     "text": [
      "🏃 View run polite-foal-969 at: https://dagshub.com/ArghyadipB/Emotion-Detection-using-ML.mlflow/#/experiments/0/runs/04d1b3cf46d54026bd35a6418e157c57\n",
      "🧪 View experiment at: https://dagshub.com/ArghyadipB/Emotion-Detection-using-ML.mlflow/#/experiments/0\n"
     ]
    },
    {
     "data": {
      "image/png": "[encoded data removed]",
      "text/plain": [
       "<Figure size 640x480 with 2 Axes>"
      ]
     },
     "metadata": {},
     "output_type": "display_data"
    }
   ],
   "source": [
    "try:\n",
    "    config = ConfigurationManager()\n",
    "    model_evaluation_config = config.get_model_evaluation_config()\n",
    "    model_evaluation_config = ModelEvaluation(config=model_evaluation_config)\n",
    "    model_evaluation_config.log_into_mlflow()\n",
    "except Exception as e:\n",
    "    raise e"
   ]
  },
  {
   "cell_type": "code",
   "execution_count": null,
   "metadata": {},
   "outputs": [],
   "source": []
  }
 ],
 "metadata": {
  "kernelspec": {
   "display_name": "Python 3",
   "language": "python",
   "name": "python3"
  },
  "language_info": {
   "codemirror_mode": {
    "name": "ipython",
    "version": 3
   },
   "file_extension": ".py",
   "mimetype": "text/x-python",
   "name": "python",
   "nbconvert_exporter": "python",
   "pygments_lexer": "ipython3",
   "version": "3.9.20"
  }
 },
 "nbformat": 4,
 "nbformat_minor": 2
}
