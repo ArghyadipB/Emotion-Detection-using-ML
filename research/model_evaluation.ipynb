{
 "cells": [
  {
   "cell_type": "code",
   "execution_count": 1,
   "metadata": {},
   "outputs": [],
   "source": [
    "import os"
   ]
  },
  {
   "cell_type": "code",
   "execution_count": 3,
   "metadata": {},
   "outputs": [],
   "source": [
    "\n",
    "os.chdir(\"../\")"
   ]
  },
  {
   "cell_type": "code",
   "execution_count": 54,
   "metadata": {},
   "outputs": [
    {
     "data": {
      "text/plain": [
       "'e:\\\\Projects\\\\E2E Emotion Detection from text\\\\Emotion-Detection-using-ML'"
      ]
     },
     "execution_count": 54,
     "metadata": {},
     "output_type": "execute_result"
    }
   ],
   "source": [
    "%pwd"
   ]
  },
  {
   "cell_type": "code",
   "execution_count": 56,
   "metadata": {},
   "outputs": [],
   "source": [
    "from dataclasses import dataclass\n",
    "from pathlib import Path\n",
    "\n",
    "\n",
    "@dataclass(frozen=True)\n",
    "class ModelEvaluationConfig:\n",
    "    root_dir: Path\n",
    "    test_data_path_X: Path\n",
    "    test_data_path_target: Path\n",
    "    model_path: Path\n",
    "    all_params: dict\n",
    "    metric_file_name: Path"
   ]
  },
  {
   "cell_type": "code",
   "execution_count": 57,
   "metadata": {},
   "outputs": [],
   "source": [
    "from src.ML_emotion_detection.constants import *\n",
    "from src.ML_emotion_detection.utils.common import read_yaml, create_directories, save_json"
   ]
  },
  {
   "cell_type": "code",
   "execution_count": 58,
   "metadata": {},
   "outputs": [],
   "source": [
    "class ConfigurationManager:\n",
    "    def __init__(\n",
    "        self,\n",
    "        config_filepath = CONFIG_FILE_PATH,\n",
    "        params_filepath = PARAMS_FILE_PATH,\n",
    "        schema_filepath = SCHEMA_FILE_PATH):\n",
    "\n",
    "        self.config = read_yaml(config_filepath)\n",
    "        self.params = read_yaml(params_filepath)\n",
    "        self.schema = read_yaml(schema_filepath)\n",
    "\n",
    "        create_directories([self.config.artifacts_root])\n",
    "\n",
    "    \n",
    "    def get_model_evaluation_config(self) -> ModelEvaluationConfig:\n",
    "        config = self.config.model_evaluation\n",
    "        params = self.params.LogisticRegression\n",
    "        # schema =  self.schema.TARGET_COLUMN\n",
    "\n",
    "        create_directories([config.root_dir])\n",
    "\n",
    "        model_evaluation_config = ModelEvaluationConfig(\n",
    "            root_dir=config.root_dir,\n",
    "            test_data_path_X=config.test_data_path_X,\n",
    "            test_data_path_target=config.test_data_path_target,\n",
    "            model_path = config.model_path,\n",
    "            all_params=params,\n",
    "            metric_file_name = config.metric_file_name,\n",
    "            # target_column = schema.name\n",
    "           \n",
    "        )\n",
    "\n",
    "        return model_evaluation_config"
   ]
  },
  {
   "cell_type": "code",
   "execution_count": 59,
   "metadata": {},
   "outputs": [],
   "source": [
    "from sklearn.metrics import (accuracy_score, precision_score,\n",
    "                             recall_score, f1_score)\n",
    "from src.ML_emotion_detection.utils.common import load_bin"
   ]
  },
  {
   "cell_type": "code",
   "execution_count": 51,
   "metadata": {},
   "outputs": [],
   "source": [
    "class ModelEvaluation:\n",
    "    def __init__(self, config: ModelEvaluationConfig):\n",
    "        self.config = config\n",
    "        \n",
    "    def eval_metrics(self, actual, pred):\n",
    "        accuracy = accuracy_score(actual, pred)\n",
    "        weighted_precision = precision_score(actual, pred, average= 'weighted')\n",
    "        weighted_recall = recall_score(actual, pred, average= 'weighted')\n",
    "        weighted_f1 = f1_score(actual, pred, average= 'weighted')\n",
    "        return accuracy, weighted_precision, weighted_recall, weighted_f1\n",
    "    \n",
    "    def save_results(self):\n",
    "        test_data_X = load_bin(self.config.test_data_path_X)\n",
    "        test_data_target = load_bin(self.config.test_data_path_target)\n",
    "        model = load_bin(self.config.model_path)\n",
    "        \n",
    "        \n",
    "        predicted_output = model.predict(test_data_X)\n",
    "        (acc, weighted_pre, weighted_rec, weighted_f1) = self.eval_metrics(test_data_target,\n",
    "                                                                          predicted_output)\n",
    "\n",
    "        scores = {\"Accuracy\": acc, \"Weighted_precision\": weighted_pre,\n",
    "                  \"Weighted_recall\": weighted_rec, \"Weighted_F1\": weighted_f1}\n",
    "        \n",
    "        save_json(path=Path(self.config.metric_file_name), data=scores)        "
   ]
  },
  {
   "cell_type": "code",
   "execution_count": 53,
   "metadata": {},
   "outputs": [
    {
     "name": "stdout",
     "output_type": "stream",
     "text": [
      "[2024-11-24 22:58:26,393: INFO: common: yaml file: config\\config.yaml loaded successfully]\n",
      "[2024-11-24 22:58:26,401: INFO: common: yaml file: params.yaml loaded successfully]\n",
      "[2024-11-24 22:58:26,407: INFO: common: yaml file: schema.yaml loaded successfully]\n",
      "[2024-11-24 22:58:26,410: INFO: common: created directory at: artifacts]\n",
      "[2024-11-24 22:58:26,413: INFO: common: created directory at: artifacts/model_evaluation]\n",
      "[2024-11-24 22:58:26,454: INFO: common: binary file loaded from: artifacts/data_transformation/X_test.joblib]\n",
      "[2024-11-24 22:58:26,471: INFO: common: binary file loaded from: artifacts/data_transformation/y_test.joblib]\n",
      "[2024-11-24 22:58:26,477: INFO: common: binary file loaded from: artifacts/model_trainer/log_reg_model.joblib]\n",
      "[2024-11-24 22:58:26,655: INFO: common: json file saved at: artifacts\\model_evaluation\\metrics.json]\n"
     ]
    }
   ],
   "source": [
    "try:\n",
    "    config = ConfigurationManager()\n",
    "    model_evaluation_config = config.get_model_evaluation_config()\n",
    "    model_evaluation_config = ModelEvaluation(config=model_evaluation_config)\n",
    "    model_evaluation_config.save_results()\n",
    "except Exception as e:\n",
    "    raise e"
   ]
  }
 ],
 "metadata": {
  "kernelspec": {
   "display_name": "Python 3",
   "language": "python",
   "name": "python3"
  },
  "language_info": {
   "codemirror_mode": {
    "name": "ipython",
    "version": 3
   },
   "file_extension": ".py",
   "mimetype": "text/x-python",
   "name": "python",
   "nbconvert_exporter": "python",
   "pygments_lexer": "ipython3",
   "version": "3.9.20"
  }
 },
 "nbformat": 4,
 "nbformat_minor": 2
}
