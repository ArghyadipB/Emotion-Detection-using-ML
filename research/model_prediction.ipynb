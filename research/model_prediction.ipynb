{
 "cells": [
  {
   "cell_type": "code",
   "execution_count": 1,
   "metadata": {},
   "outputs": [],
   "source": [
    "import os"
   ]
  },
  {
   "cell_type": "code",
   "execution_count": 3,
   "metadata": {},
   "outputs": [],
   "source": [
    "os.chdir(\"../\")"
   ]
  },
  {
   "cell_type": "code",
   "execution_count": 4,
   "metadata": {},
   "outputs": [
    {
     "data": {
      "text/plain": [
       "'e:\\\\Projects\\\\E2E Emotion Detection from text\\\\Emotion-Detection-using-ML'"
      ]
     },
     "execution_count": 4,
     "metadata": {},
     "output_type": "execute_result"
    }
   ],
   "source": [
    "%pwd"
   ]
  },
  {
   "cell_type": "code",
   "execution_count": 5,
   "metadata": {},
   "outputs": [],
   "source": [
    "from src.ML_emotion_detection.utils.common import load_bin\n",
    "from pathlib import Path\n",
    "import pandas as pd\n",
    "import numpy as np\n",
    "\n",
    "class PredictPipeline:\n",
    "    def __init__(self):\n",
    "        self.model= load_bin(Path(\"artifacts/model_trainer/log_reg_model.joblib\"))\n",
    "        self.preprocessor = load_bin(Path(\"artifacts/data_transformation/preprocessor.joblib\"))\n",
    "     \n",
    "    def predict(self, user_data):\n",
    "        if type(user_data) == str:\n",
    "            data= pd.Series(user_data)\n",
    "            processed_data= self.preprocessor.transform(data)\n",
    "            prediction= self.model.predict(processed_data) \n",
    "            pred_prob = \"%.5f\" % np.max(self.model.predict_proba(processed_data))\n",
    "            \n",
    "            label_map = {\n",
    "            0: \"sadness\",\n",
    "            1: \"joy\",\n",
    "            2: \"love\",\n",
    "            3: \"anger\",\n",
    "            4: \"fear\",\n",
    "            5: \"surprise\"\n",
    "            }\n",
    "            \n",
    "            prediction= label_map[prediction[0]] \n",
    "            \n",
    "            return f\"The class is '{prediction}' with probability of {pred_prob}\"\n",
    "        else:\n",
    "            return f\"Invalid Input\""
   ]
  },
  {
   "cell_type": "code",
   "execution_count": 18,
   "metadata": {},
   "outputs": [
    {
     "name": "stdout",
     "output_type": "stream",
     "text": [
      "[2024-11-27 13:16:10,294: INFO: common: binary file loaded from: artifacts\\model_trainer\\log_reg_model.joblib]\n",
      "[2024-11-27 13:16:10,441: INFO: common: binary file loaded from: artifacts\\data_transformation\\preprocessor.joblib]\n"
     ]
    },
    {
     "name": "stderr",
     "output_type": "stream",
     "text": [
      "100%|██████████| 1/1 [00:00<00:00, 1000.79it/s]\n",
      "100%|██████████| 1/1 [00:00<00:00, 333.41it/s]\n"
     ]
    }
   ],
   "source": [
    "model_prediction= PredictPipeline()\n",
    "out = model_prediction.predict(\"I am no sad today\") "
   ]
  },
  {
   "cell_type": "code",
   "execution_count": 19,
   "metadata": {},
   "outputs": [
    {
     "data": {
      "text/plain": [
       "\"The class is 'sadness' with probability of 0.93159\""
      ]
     },
     "execution_count": 19,
     "metadata": {},
     "output_type": "execute_result"
    }
   ],
   "source": [
    "out"
   ]
  },
  {
   "cell_type": "code",
   "execution_count": 24,
   "metadata": {},
   "outputs": [],
   "source": [
    "class TestPredictPipeline:\n",
    "    def __init__(self):\n",
    "        self.model= load_bin(Path(\"artifacts/model_trainer/log_reg_model.joblib\"))\n",
    "        self.preprocessor = load_bin(Path(\"artifacts/data_transformation/preprocessor.joblib\"))\n",
    "     \n",
    "    def predict(self, user_data):\n",
    "        if isinstance(user_data, str):  # Ensures input is a string\n",
    "            # Convert the input text to a Pandas Series\n",
    "            data = pd.Series(user_data)\n",
    "            \n",
    "            # Preprocess the input data\n",
    "            processed_data = self.preprocessor.transform(data)\n",
    "            \n",
    "            # Get the predicted class\n",
    "            prediction = self.model.predict(processed_data)\n",
    "            \n",
    "            # Get probabilities for all classes\n",
    "            pred_probs = self.model.predict_proba(processed_data)[0]\n",
    "            \n",
    "            # Class label mapping\n",
    "            label_map = {\n",
    "                0: \"sadness\",\n",
    "                1: \"joy\",\n",
    "                2: \"love\",\n",
    "                3: \"anger\",\n",
    "                4: \"fear\",\n",
    "                5: \"surprise\"\n",
    "            }\n",
    "            \n",
    "            # Map probabilities to class labels\n",
    "            probabilities = {label_map[i]: f\"{prob:.5f}\" for i, prob in enumerate(pred_probs)}\n",
    "            \n",
    "            # Get the predicted label\n",
    "            predicted_label = label_map[prediction[0]]\n",
    "            \n",
    "            # Return the predicted label and all probabilities\n",
    "            return {\n",
    "                \"predicted_label\": predicted_label,\n",
    "                \"probabilities\": probabilities\n",
    "            }\n",
    "        else:\n",
    "            return {\"error\": \"Invalid input. Please provide a string.\"}"
   ]
  },
  {
   "cell_type": "code",
   "execution_count": 27,
   "metadata": {},
   "outputs": [
    {
     "name": "stdout",
     "output_type": "stream",
     "text": [
      "[2024-11-27 13:44:02,007: INFO: common: binary file loaded from: artifacts\\model_trainer\\log_reg_model.joblib]\n",
      "[2024-11-27 13:44:02,240: INFO: common: binary file loaded from: artifacts\\data_transformation\\preprocessor.joblib]\n"
     ]
    },
    {
     "name": "stderr",
     "output_type": "stream",
     "text": [
      "100%|██████████| 1/1 [00:00<00:00,  4.54it/s]\n",
      "100%|██████████| 1/1 [00:01<00:00,  1.51s/it]\n"
     ]
    },
    {
     "data": {
      "text/plain": [
       "{'predicted_label': 'anger',\n",
       " 'probabilities': {'sadness': '0.19776',\n",
       "  'joy': '0.23131',\n",
       "  'love': '0.05043',\n",
       "  'anger': '0.28289',\n",
       "  'fear': '0.19366',\n",
       "  'surprise': '0.04396'}}"
      ]
     },
     "execution_count": 27,
     "metadata": {},
     "output_type": "execute_result"
    }
   ],
   "source": [
    "text_predict_pipe = TestPredictPipeline()\n",
    "text_predict_pipe.predict(\"I dont like to swim\")"
   ]
  }
 ],
 "metadata": {
  "kernelspec": {
   "display_name": "Python 3",
   "language": "python",
   "name": "python3"
  },
  "language_info": {
   "codemirror_mode": {
    "name": "ipython",
    "version": 3
   },
   "file_extension": ".py",
   "mimetype": "text/x-python",
   "name": "python",
   "nbconvert_exporter": "python",
   "pygments_lexer": "ipython3",
   "version": "3.9.20"
  }
 },
 "nbformat": 4,
 "nbformat_minor": 2
}
